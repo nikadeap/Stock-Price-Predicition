{
 "cells": [
  {
   "cell_type": "markdown",
   "metadata": {
    "collapsed": true
   },
   "source": [
    "## Name:Apurva Nikade"
   ]
  },
  {
   "cell_type": "markdown",
   "metadata": {
    "collapsed": true
   },
   "source": [
    "## Question 1-Daily Return Analysis"
   ]
  },
  {
   "cell_type": "markdown",
   "metadata": {
    "collapsed": true
   },
   "source": [
    " ### a) Calculate daily gain for the stocks"
   ]
  },
  {
   "cell_type": "code",
   "execution_count": 1,
   "metadata": {
    "collapsed": true
   },
   "outputs": [],
   "source": [
    "import pandas as pd\n",
    "import numpy as np\n",
    "import matplotlib.pyplot as plt\n",
    "import seaborn as sn\n",
    "%matplotlib inline"
   ]
  },
  {
   "cell_type": "markdown",
   "metadata": {},
   "source": [
    "#### Read the csv files for below stocks"
   ]
  },
  {
   "cell_type": "code",
   "execution_count": 2,
   "metadata": {
    "collapsed": true
   },
   "outputs": [],
   "source": [
    "Stock1_df = pd.read_csv( 'Stock1.csv' )\n",
    "Stock2_df = pd.read_csv( 'Stock2.csv' )\n",
    "Stock3_df = pd.read_csv( 'Stock3.csv' )\n",
    "Stock4_df = pd.read_csv( 'Stock4.csv' )"
   ]
  },
  {
   "cell_type": "markdown",
   "metadata": {
    "collapsed": true
   },
   "source": [
    "#### Calculating daily gain for Stock1 Ltd."
   ]
  },
  {
   "cell_type": "code",
   "execution_count": 3,
   "metadata": {
    "collapsed": true
   },
   "outputs": [],
   "source": [
    "Stock1_df['Date'] =pd.to_datetime(Stock1_df.Date)"
   ]
  },
  {
   "cell_type": "code",
   "execution_count": 4,
   "metadata": {
    "collapsed": true
   },
   "outputs": [],
   "source": [
    "Stock1_sorted=Stock1_df.sort_values(by='Date')"
   ]
  },
  {
   "cell_type": "code",
   "execution_count": 5,
   "metadata": {
    "collapsed": true
   },
   "outputs": [],
   "source": [
    "#Daily gain for the stock\n",
    "Stock1_sorted[\"Gain\"]=(Stock1_sorted[\"Close Price\"].pct_change())*100"
   ]
  },
  {
   "cell_type": "code",
   "execution_count": 6,
   "metadata": {},
   "outputs": [
    {
     "data": {
      "text/html": [
       "<div>\n",
       "<style>\n",
       "    .dataframe thead tr:only-child th {\n",
       "        text-align: right;\n",
       "    }\n",
       "\n",
       "    .dataframe thead th {\n",
       "        text-align: left;\n",
       "    }\n",
       "\n",
       "    .dataframe tbody tr th {\n",
       "        vertical-align: top;\n",
       "    }\n",
       "</style>\n",
       "<table border=\"1\" class=\"dataframe\">\n",
       "  <thead>\n",
       "    <tr style=\"text-align: right;\">\n",
       "      <th></th>\n",
       "      <th>Date</th>\n",
       "      <th>Open Price</th>\n",
       "      <th>High Price</th>\n",
       "      <th>Low Price</th>\n",
       "      <th>Close Price</th>\n",
       "      <th>WAP</th>\n",
       "      <th>No.of Shares</th>\n",
       "      <th>No. of Trades</th>\n",
       "      <th>Total Turnover (Rs.)</th>\n",
       "      <th>Deliverable Quantity</th>\n",
       "      <th>% Deli. Qty to Traded Qty</th>\n",
       "      <th>Spread High-Low</th>\n",
       "      <th>Spread Close-Open</th>\n",
       "      <th>Gain</th>\n",
       "    </tr>\n",
       "  </thead>\n",
       "  <tbody>\n",
       "    <tr>\n",
       "      <th>1237</th>\n",
       "      <td>2012-04-02</td>\n",
       "      <td>201.00</td>\n",
       "      <td>209.20</td>\n",
       "      <td>200.25</td>\n",
       "      <td>207.3</td>\n",
       "      <td>206.709448</td>\n",
       "      <td>1028861</td>\n",
       "      <td>14144</td>\n",
       "      <td>212675289.0</td>\n",
       "      <td>170280</td>\n",
       "      <td>16.55</td>\n",
       "      <td>8.95</td>\n",
       "      <td>6.30</td>\n",
       "      <td>NaN</td>\n",
       "    </tr>\n",
       "    <tr>\n",
       "      <th>1236</th>\n",
       "      <td>2012-04-03</td>\n",
       "      <td>209.50</td>\n",
       "      <td>210.95</td>\n",
       "      <td>206.15</td>\n",
       "      <td>207.0</td>\n",
       "      <td>208.479581</td>\n",
       "      <td>630615</td>\n",
       "      <td>8132</td>\n",
       "      <td>131470351.0</td>\n",
       "      <td>97668</td>\n",
       "      <td>15.49</td>\n",
       "      <td>4.80</td>\n",
       "      <td>-2.50</td>\n",
       "      <td>-0.144718</td>\n",
       "    </tr>\n",
       "    <tr>\n",
       "      <th>1235</th>\n",
       "      <td>2012-04-04</td>\n",
       "      <td>207.00</td>\n",
       "      <td>207.00</td>\n",
       "      <td>201.20</td>\n",
       "      <td>204.2</td>\n",
       "      <td>203.683239</td>\n",
       "      <td>632284</td>\n",
       "      <td>7807</td>\n",
       "      <td>128785653.0</td>\n",
       "      <td>50993</td>\n",
       "      <td>8.06</td>\n",
       "      <td>5.80</td>\n",
       "      <td>-2.80</td>\n",
       "      <td>-1.352657</td>\n",
       "    </tr>\n",
       "    <tr>\n",
       "      <th>1234</th>\n",
       "      <td>2012-04-09</td>\n",
       "      <td>202.00</td>\n",
       "      <td>207.70</td>\n",
       "      <td>201.15</td>\n",
       "      <td>205.5</td>\n",
       "      <td>205.538726</td>\n",
       "      <td>765619</td>\n",
       "      <td>10538</td>\n",
       "      <td>157364354.0</td>\n",
       "      <td>68847</td>\n",
       "      <td>8.99</td>\n",
       "      <td>6.55</td>\n",
       "      <td>3.50</td>\n",
       "      <td>0.636631</td>\n",
       "    </tr>\n",
       "    <tr>\n",
       "      <th>1233</th>\n",
       "      <td>2012-04-10</td>\n",
       "      <td>206.75</td>\n",
       "      <td>207.20</td>\n",
       "      <td>202.00</td>\n",
       "      <td>204.2</td>\n",
       "      <td>204.758825</td>\n",
       "      <td>505360</td>\n",
       "      <td>7423</td>\n",
       "      <td>103476920.0</td>\n",
       "      <td>42197</td>\n",
       "      <td>8.35</td>\n",
       "      <td>5.20</td>\n",
       "      <td>-2.55</td>\n",
       "      <td>-0.632603</td>\n",
       "    </tr>\n",
       "  </tbody>\n",
       "</table>\n",
       "</div>"
      ],
      "text/plain": [
       "           Date  Open Price  High Price  Low Price  Close Price         WAP  \\\n",
       "1237 2012-04-02      201.00      209.20     200.25        207.3  206.709448   \n",
       "1236 2012-04-03      209.50      210.95     206.15        207.0  208.479581   \n",
       "1235 2012-04-04      207.00      207.00     201.20        204.2  203.683239   \n",
       "1234 2012-04-09      202.00      207.70     201.15        205.5  205.538726   \n",
       "1233 2012-04-10      206.75      207.20     202.00        204.2  204.758825   \n",
       "\n",
       "      No.of Shares  No. of Trades  Total Turnover (Rs.)  Deliverable Quantity  \\\n",
       "1237       1028861          14144           212675289.0                170280   \n",
       "1236        630615           8132           131470351.0                 97668   \n",
       "1235        632284           7807           128785653.0                 50993   \n",
       "1234        765619          10538           157364354.0                 68847   \n",
       "1233        505360           7423           103476920.0                 42197   \n",
       "\n",
       "      % Deli. Qty to Traded Qty  Spread High-Low  Spread Close-Open      Gain  \n",
       "1237                      16.55             8.95               6.30       NaN  \n",
       "1236                      15.49             4.80              -2.50 -0.144718  \n",
       "1235                       8.06             5.80              -2.80 -1.352657  \n",
       "1234                       8.99             6.55               3.50  0.636631  \n",
       "1233                       8.35             5.20              -2.55 -0.632603  "
      ]
     },
     "execution_count": 6,
     "metadata": {},
     "output_type": "execute_result"
    }
   ],
   "source": [
    "#Print sorted dataset of Stock1 stock\n",
    "Stock1_sorted.head()\n"
   ]
  },
  {
   "cell_type": "markdown",
   "metadata": {
    "collapsed": true
   },
   "source": [
    "#### Calculating daily gain for Stock2 Ltd."
   ]
  },
  {
   "cell_type": "code",
   "execution_count": 7,
   "metadata": {
    "collapsed": true
   },
   "outputs": [],
   "source": [
    "Stock2_df['Date'] =pd.to_datetime(Stock2_df.Date)"
   ]
  },
  {
   "cell_type": "code",
   "execution_count": 9,
   "metadata": {
    "collapsed": true
   },
   "outputs": [],
   "source": [
    "Stock2_sorted=Stock2_df.sort_values(by='Date')"
   ]
  },
  {
   "cell_type": "code",
   "execution_count": 10,
   "metadata": {
    "collapsed": true
   },
   "outputs": [],
   "source": [
    "#Daily gain for the stock\n",
    "Stock2_sorted[\"Gain\"]=round((Stock2_sorted[\"Close Price\"].pct_change())*100,2)"
   ]
  },
  {
   "cell_type": "code",
   "execution_count": 11,
   "metadata": {},
   "outputs": [
    {
     "data": {
      "text/html": [
       "<div>\n",
       "<style>\n",
       "    .dataframe thead tr:only-child th {\n",
       "        text-align: right;\n",
       "    }\n",
       "\n",
       "    .dataframe thead th {\n",
       "        text-align: left;\n",
       "    }\n",
       "\n",
       "    .dataframe tbody tr th {\n",
       "        vertical-align: top;\n",
       "    }\n",
       "</style>\n",
       "<table border=\"1\" class=\"dataframe\">\n",
       "  <thead>\n",
       "    <tr style=\"text-align: right;\">\n",
       "      <th></th>\n",
       "      <th>Date</th>\n",
       "      <th>Open Price</th>\n",
       "      <th>High Price</th>\n",
       "      <th>Low Price</th>\n",
       "      <th>Close Price</th>\n",
       "      <th>WAP</th>\n",
       "      <th>No.of Shares</th>\n",
       "      <th>No. of Trades</th>\n",
       "      <th>Total Turnover (Rs.)</th>\n",
       "      <th>Deliverable Quantity</th>\n",
       "      <th>% Deli. Qty to Traded Qty</th>\n",
       "      <th>Spread High-Low</th>\n",
       "      <th>Spread Close-Open</th>\n",
       "      <th>Gain</th>\n",
       "    </tr>\n",
       "  </thead>\n",
       "  <tbody>\n",
       "    <tr>\n",
       "      <th>1237</th>\n",
       "      <td>2012-04-02</td>\n",
       "      <td>106.50</td>\n",
       "      <td>107.90</td>\n",
       "      <td>105.00</td>\n",
       "      <td>105.80</td>\n",
       "      <td>106.485281</td>\n",
       "      <td>43109</td>\n",
       "      <td>471</td>\n",
       "      <td>4590474.0</td>\n",
       "      <td>26103</td>\n",
       "      <td>60.55</td>\n",
       "      <td>2.90</td>\n",
       "      <td>-0.70</td>\n",
       "      <td>NaN</td>\n",
       "    </tr>\n",
       "    <tr>\n",
       "      <th>1236</th>\n",
       "      <td>2012-04-03</td>\n",
       "      <td>105.85</td>\n",
       "      <td>106.40</td>\n",
       "      <td>105.55</td>\n",
       "      <td>105.75</td>\n",
       "      <td>105.875609</td>\n",
       "      <td>19704</td>\n",
       "      <td>355</td>\n",
       "      <td>2086173.0</td>\n",
       "      <td>6749</td>\n",
       "      <td>34.25</td>\n",
       "      <td>0.85</td>\n",
       "      <td>-0.10</td>\n",
       "      <td>-0.05</td>\n",
       "    </tr>\n",
       "    <tr>\n",
       "      <th>1235</th>\n",
       "      <td>2012-04-04</td>\n",
       "      <td>106.25</td>\n",
       "      <td>106.30</td>\n",
       "      <td>104.60</td>\n",
       "      <td>105.45</td>\n",
       "      <td>105.540951</td>\n",
       "      <td>18510</td>\n",
       "      <td>292</td>\n",
       "      <td>1953563.0</td>\n",
       "      <td>9751</td>\n",
       "      <td>52.68</td>\n",
       "      <td>1.70</td>\n",
       "      <td>-0.80</td>\n",
       "      <td>-0.28</td>\n",
       "    </tr>\n",
       "    <tr>\n",
       "      <th>1234</th>\n",
       "      <td>2012-04-09</td>\n",
       "      <td>105.95</td>\n",
       "      <td>106.00</td>\n",
       "      <td>103.20</td>\n",
       "      <td>104.35</td>\n",
       "      <td>104.663958</td>\n",
       "      <td>32984</td>\n",
       "      <td>499</td>\n",
       "      <td>3452236.0</td>\n",
       "      <td>10404</td>\n",
       "      <td>31.54</td>\n",
       "      <td>2.80</td>\n",
       "      <td>-1.60</td>\n",
       "      <td>-1.04</td>\n",
       "    </tr>\n",
       "    <tr>\n",
       "      <th>1233</th>\n",
       "      <td>2012-04-10</td>\n",
       "      <td>104.90</td>\n",
       "      <td>106.95</td>\n",
       "      <td>104.70</td>\n",
       "      <td>105.45</td>\n",
       "      <td>105.916454</td>\n",
       "      <td>48225</td>\n",
       "      <td>533</td>\n",
       "      <td>5107821.0</td>\n",
       "      <td>16774</td>\n",
       "      <td>34.78</td>\n",
       "      <td>2.25</td>\n",
       "      <td>0.55</td>\n",
       "      <td>1.05</td>\n",
       "    </tr>\n",
       "  </tbody>\n",
       "</table>\n",
       "</div>"
      ],
      "text/plain": [
       "           Date  Open Price  High Price  Low Price  Close Price         WAP  \\\n",
       "1237 2012-04-02      106.50      107.90     105.00       105.80  106.485281   \n",
       "1236 2012-04-03      105.85      106.40     105.55       105.75  105.875609   \n",
       "1235 2012-04-04      106.25      106.30     104.60       105.45  105.540951   \n",
       "1234 2012-04-09      105.95      106.00     103.20       104.35  104.663958   \n",
       "1233 2012-04-10      104.90      106.95     104.70       105.45  105.916454   \n",
       "\n",
       "      No.of Shares  No. of Trades  Total Turnover (Rs.)  Deliverable Quantity  \\\n",
       "1237         43109            471             4590474.0                 26103   \n",
       "1236         19704            355             2086173.0                  6749   \n",
       "1235         18510            292             1953563.0                  9751   \n",
       "1234         32984            499             3452236.0                 10404   \n",
       "1233         48225            533             5107821.0                 16774   \n",
       "\n",
       "      % Deli. Qty to Traded Qty  Spread High-Low  Spread Close-Open  Gain  \n",
       "1237                      60.55             2.90              -0.70   NaN  \n",
       "1236                      34.25             0.85              -0.10 -0.05  \n",
       "1235                      52.68             1.70              -0.80 -0.28  \n",
       "1234                      31.54             2.80              -1.60 -1.04  \n",
       "1233                      34.78             2.25               0.55  1.05  "
      ]
     },
     "execution_count": 11,
     "metadata": {},
     "output_type": "execute_result"
    }
   ],
   "source": [
    "#Print sorted dataset of Stock2 stock\n",
    "Stock2_sorted.head()"
   ]
  },
  {
   "cell_type": "markdown",
   "metadata": {
    "collapsed": true
   },
   "source": [
    "#### Calculating daily gain for Stock3 Ltd."
   ]
  },
  {
   "cell_type": "code",
   "execution_count": 12,
   "metadata": {
    "collapsed": true
   },
   "outputs": [],
   "source": [
    "Stock3_df['Date'] =pd.to_datetime(Stock3_df.Date)"
   ]
  },
  {
   "cell_type": "code",
   "execution_count": 13,
   "metadata": {
    "collapsed": true
   },
   "outputs": [],
   "source": [
    "Stock3_sorted=Stock3_df.sort_values(by='Date')"
   ]
  },
  {
   "cell_type": "code",
   "execution_count": 14,
   "metadata": {
    "collapsed": true
   },
   "outputs": [],
   "source": [
    "#Daily gain for the stock\n",
    "Stock3_sorted[\"Gain\"]=round((Stock3_sorted[\"Close Price\"].pct_change())*100,2)"
   ]
  },
  {
   "cell_type": "code",
   "execution_count": 15,
   "metadata": {},
   "outputs": [
    {
     "data": {
      "text/html": [
       "<div>\n",
       "<style>\n",
       "    .dataframe thead tr:only-child th {\n",
       "        text-align: right;\n",
       "    }\n",
       "\n",
       "    .dataframe thead th {\n",
       "        text-align: left;\n",
       "    }\n",
       "\n",
       "    .dataframe tbody tr th {\n",
       "        vertical-align: top;\n",
       "    }\n",
       "</style>\n",
       "<table border=\"1\" class=\"dataframe\">\n",
       "  <thead>\n",
       "    <tr style=\"text-align: right;\">\n",
       "      <th></th>\n",
       "      <th>Date</th>\n",
       "      <th>Open Price</th>\n",
       "      <th>High Price</th>\n",
       "      <th>Low Price</th>\n",
       "      <th>Close Price</th>\n",
       "      <th>WAP</th>\n",
       "      <th>No.of Shares</th>\n",
       "      <th>No. of Trades</th>\n",
       "      <th>Total Turnover (Rs.)</th>\n",
       "      <th>Deliverable Quantity</th>\n",
       "      <th>% Deli. Qty to Traded Qty</th>\n",
       "      <th>Spread High-Low</th>\n",
       "      <th>Spread Close-Open</th>\n",
       "      <th>Gain</th>\n",
       "    </tr>\n",
       "  </thead>\n",
       "  <tbody>\n",
       "    <tr>\n",
       "      <th>1233</th>\n",
       "      <td>2012-04-02</td>\n",
       "      <td>3700.00</td>\n",
       "      <td>3750.00</td>\n",
       "      <td>3680.00</td>\n",
       "      <td>3725.45</td>\n",
       "      <td>3721.048193</td>\n",
       "      <td>415</td>\n",
       "      <td>79</td>\n",
       "      <td>1544235.0</td>\n",
       "      <td>329.0</td>\n",
       "      <td>79.28</td>\n",
       "      <td>70.00</td>\n",
       "      <td>25.45</td>\n",
       "      <td>NaN</td>\n",
       "    </tr>\n",
       "    <tr>\n",
       "      <th>1232</th>\n",
       "      <td>2012-04-03</td>\n",
       "      <td>3799.95</td>\n",
       "      <td>4035.00</td>\n",
       "      <td>3752.00</td>\n",
       "      <td>3992.75</td>\n",
       "      <td>3957.037594</td>\n",
       "      <td>665</td>\n",
       "      <td>104</td>\n",
       "      <td>2631430.0</td>\n",
       "      <td>419.0</td>\n",
       "      <td>63.01</td>\n",
       "      <td>283.00</td>\n",
       "      <td>192.80</td>\n",
       "      <td>7.17</td>\n",
       "    </tr>\n",
       "    <tr>\n",
       "      <th>1231</th>\n",
       "      <td>2012-04-04</td>\n",
       "      <td>4001.00</td>\n",
       "      <td>4050.05</td>\n",
       "      <td>3950.00</td>\n",
       "      <td>4011.15</td>\n",
       "      <td>3990.568345</td>\n",
       "      <td>139</td>\n",
       "      <td>41</td>\n",
       "      <td>554689.0</td>\n",
       "      <td>88.0</td>\n",
       "      <td>63.31</td>\n",
       "      <td>100.05</td>\n",
       "      <td>10.15</td>\n",
       "      <td>0.46</td>\n",
       "    </tr>\n",
       "    <tr>\n",
       "      <th>1230</th>\n",
       "      <td>2012-04-09</td>\n",
       "      <td>3991.00</td>\n",
       "      <td>4200.00</td>\n",
       "      <td>3991.00</td>\n",
       "      <td>4184.00</td>\n",
       "      <td>4098.469101</td>\n",
       "      <td>356</td>\n",
       "      <td>109</td>\n",
       "      <td>1459055.0</td>\n",
       "      <td>244.0</td>\n",
       "      <td>68.54</td>\n",
       "      <td>209.00</td>\n",
       "      <td>193.00</td>\n",
       "      <td>4.31</td>\n",
       "    </tr>\n",
       "    <tr>\n",
       "      <th>1229</th>\n",
       "      <td>2012-04-10</td>\n",
       "      <td>4200.00</td>\n",
       "      <td>4249.00</td>\n",
       "      <td>4189.95</td>\n",
       "      <td>4246.20</td>\n",
       "      <td>4229.290076</td>\n",
       "      <td>393</td>\n",
       "      <td>135</td>\n",
       "      <td>1662111.0</td>\n",
       "      <td>295.0</td>\n",
       "      <td>75.06</td>\n",
       "      <td>59.05</td>\n",
       "      <td>46.20</td>\n",
       "      <td>1.49</td>\n",
       "    </tr>\n",
       "  </tbody>\n",
       "</table>\n",
       "</div>"
      ],
      "text/plain": [
       "           Date  Open Price  High Price  Low Price  Close Price          WAP  \\\n",
       "1233 2012-04-02     3700.00     3750.00    3680.00      3725.45  3721.048193   \n",
       "1232 2012-04-03     3799.95     4035.00    3752.00      3992.75  3957.037594   \n",
       "1231 2012-04-04     4001.00     4050.05    3950.00      4011.15  3990.568345   \n",
       "1230 2012-04-09     3991.00     4200.00    3991.00      4184.00  4098.469101   \n",
       "1229 2012-04-10     4200.00     4249.00    4189.95      4246.20  4229.290076   \n",
       "\n",
       "      No.of Shares  No. of Trades  Total Turnover (Rs.)  Deliverable Quantity  \\\n",
       "1233           415             79             1544235.0                 329.0   \n",
       "1232           665            104             2631430.0                 419.0   \n",
       "1231           139             41              554689.0                  88.0   \n",
       "1230           356            109             1459055.0                 244.0   \n",
       "1229           393            135             1662111.0                 295.0   \n",
       "\n",
       "      % Deli. Qty to Traded Qty  Spread High-Low  Spread Close-Open  Gain  \n",
       "1233                      79.28            70.00              25.45   NaN  \n",
       "1232                      63.01           283.00             192.80  7.17  \n",
       "1231                      63.31           100.05              10.15  0.46  \n",
       "1230                      68.54           209.00             193.00  4.31  \n",
       "1229                      75.06            59.05              46.20  1.49  "
      ]
     },
     "execution_count": 15,
     "metadata": {},
     "output_type": "execute_result"
    }
   ],
   "source": [
    "#Print sorted dataset of Stock3 stock\n",
    "Stock3_sorted.head()"
   ]
  },
  {
   "cell_type": "markdown",
   "metadata": {
    "collapsed": true
   },
   "source": [
    "#### Calculating daily gain for Stock4 Ltd."
   ]
  },
  {
   "cell_type": "code",
   "execution_count": 16,
   "metadata": {
    "collapsed": true
   },
   "outputs": [],
   "source": [
    "Stock4_df['Date'] =pd.to_datetime(Stock4_df.Date)"
   ]
  },
  {
   "cell_type": "code",
   "execution_count": 17,
   "metadata": {
    "collapsed": true
   },
   "outputs": [],
   "source": [
    "Stock4_sorted=Stock4_df.sort_values(by='Date')"
   ]
  },
  {
   "cell_type": "code",
   "execution_count": 18,
   "metadata": {
    "collapsed": true
   },
   "outputs": [],
   "source": [
    "#Daily gain for the stock\n",
    "Stock4_sorted[\"Gain\"]=round((Stock4_sorted[\"Close Price\"].pct_change())*100,2)"
   ]
  },
  {
   "cell_type": "code",
   "execution_count": 19,
   "metadata": {},
   "outputs": [
    {
     "data": {
      "text/html": [
       "<div>\n",
       "<style>\n",
       "    .dataframe thead tr:only-child th {\n",
       "        text-align: right;\n",
       "    }\n",
       "\n",
       "    .dataframe thead th {\n",
       "        text-align: left;\n",
       "    }\n",
       "\n",
       "    .dataframe tbody tr th {\n",
       "        vertical-align: top;\n",
       "    }\n",
       "</style>\n",
       "<table border=\"1\" class=\"dataframe\">\n",
       "  <thead>\n",
       "    <tr style=\"text-align: right;\">\n",
       "      <th></th>\n",
       "      <th>Date</th>\n",
       "      <th>Open Price</th>\n",
       "      <th>High Price</th>\n",
       "      <th>Low Price</th>\n",
       "      <th>Close Price</th>\n",
       "      <th>WAP</th>\n",
       "      <th>No.of Shares</th>\n",
       "      <th>No. of Trades</th>\n",
       "      <th>Total Turnover (Rs.)</th>\n",
       "      <th>Deliverable Quantity</th>\n",
       "      <th>% Deli. Qty to Traded Qty</th>\n",
       "      <th>Spread High-Low</th>\n",
       "      <th>Spread Close-Open</th>\n",
       "      <th>Gain</th>\n",
       "    </tr>\n",
       "  </thead>\n",
       "  <tbody>\n",
       "    <tr>\n",
       "      <th>1237</th>\n",
       "      <td>2012-04-02</td>\n",
       "      <td>230.60</td>\n",
       "      <td>247.00</td>\n",
       "      <td>230.60</td>\n",
       "      <td>242.70</td>\n",
       "      <td>242.257134</td>\n",
       "      <td>1209237</td>\n",
       "      <td>17838</td>\n",
       "      <td>292946290.0</td>\n",
       "      <td>329213.0</td>\n",
       "      <td>27.22</td>\n",
       "      <td>16.40</td>\n",
       "      <td>12.10</td>\n",
       "      <td>NaN</td>\n",
       "    </tr>\n",
       "    <tr>\n",
       "      <th>1236</th>\n",
       "      <td>2012-04-03</td>\n",
       "      <td>243.00</td>\n",
       "      <td>250.65</td>\n",
       "      <td>243.00</td>\n",
       "      <td>247.65</td>\n",
       "      <td>247.850367</td>\n",
       "      <td>489316</td>\n",
       "      <td>7590</td>\n",
       "      <td>121277150.0</td>\n",
       "      <td>108755.0</td>\n",
       "      <td>22.23</td>\n",
       "      <td>7.65</td>\n",
       "      <td>4.65</td>\n",
       "      <td>2.04</td>\n",
       "    </tr>\n",
       "    <tr>\n",
       "      <th>1235</th>\n",
       "      <td>2012-04-04</td>\n",
       "      <td>245.00</td>\n",
       "      <td>253.75</td>\n",
       "      <td>243.30</td>\n",
       "      <td>249.20</td>\n",
       "      <td>249.027180</td>\n",
       "      <td>717370</td>\n",
       "      <td>10583</td>\n",
       "      <td>178644628.0</td>\n",
       "      <td>128853.0</td>\n",
       "      <td>17.96</td>\n",
       "      <td>10.45</td>\n",
       "      <td>4.20</td>\n",
       "      <td>0.63</td>\n",
       "    </tr>\n",
       "    <tr>\n",
       "      <th>1234</th>\n",
       "      <td>2012-04-09</td>\n",
       "      <td>246.00</td>\n",
       "      <td>250.60</td>\n",
       "      <td>241.55</td>\n",
       "      <td>243.25</td>\n",
       "      <td>245.291561</td>\n",
       "      <td>295725</td>\n",
       "      <td>5051</td>\n",
       "      <td>72538847.0</td>\n",
       "      <td>45358.0</td>\n",
       "      <td>15.34</td>\n",
       "      <td>9.05</td>\n",
       "      <td>-2.75</td>\n",
       "      <td>-2.39</td>\n",
       "    </tr>\n",
       "    <tr>\n",
       "      <th>1233</th>\n",
       "      <td>2012-04-10</td>\n",
       "      <td>243.95</td>\n",
       "      <td>245.70</td>\n",
       "      <td>239.00</td>\n",
       "      <td>244.20</td>\n",
       "      <td>242.925653</td>\n",
       "      <td>224219</td>\n",
       "      <td>4213</td>\n",
       "      <td>54468547.0</td>\n",
       "      <td>30995.0</td>\n",
       "      <td>13.82</td>\n",
       "      <td>6.70</td>\n",
       "      <td>0.25</td>\n",
       "      <td>0.39</td>\n",
       "    </tr>\n",
       "  </tbody>\n",
       "</table>\n",
       "</div>"
      ],
      "text/plain": [
       "           Date  Open Price  High Price  Low Price  Close Price         WAP  \\\n",
       "1237 2012-04-02      230.60      247.00     230.60       242.70  242.257134   \n",
       "1236 2012-04-03      243.00      250.65     243.00       247.65  247.850367   \n",
       "1235 2012-04-04      245.00      253.75     243.30       249.20  249.027180   \n",
       "1234 2012-04-09      246.00      250.60     241.55       243.25  245.291561   \n",
       "1233 2012-04-10      243.95      245.70     239.00       244.20  242.925653   \n",
       "\n",
       "      No.of Shares  No. of Trades  Total Turnover (Rs.)  Deliverable Quantity  \\\n",
       "1237       1209237          17838           292946290.0              329213.0   \n",
       "1236        489316           7590           121277150.0              108755.0   \n",
       "1235        717370          10583           178644628.0              128853.0   \n",
       "1234        295725           5051            72538847.0               45358.0   \n",
       "1233        224219           4213            54468547.0               30995.0   \n",
       "\n",
       "      % Deli. Qty to Traded Qty  Spread High-Low  Spread Close-Open  Gain  \n",
       "1237                      27.22            16.40              12.10   NaN  \n",
       "1236                      22.23             7.65               4.65  2.04  \n",
       "1235                      17.96            10.45               4.20  0.63  \n",
       "1234                      15.34             9.05              -2.75 -2.39  \n",
       "1233                      13.82             6.70               0.25  0.39  "
      ]
     },
     "execution_count": 19,
     "metadata": {},
     "output_type": "execute_result"
    }
   ],
   "source": [
    "#Print sorted dataset of Stock4 stock\n",
    "Stock4_sorted.head()"
   ]
  },
  {
   "cell_type": "markdown",
   "metadata": {
    "collapsed": true
   },
   "source": [
    "### b.Calculate mean and variance of the percentage daily returns"
   ]
  },
  {
   "cell_type": "markdown",
   "metadata": {
    "collapsed": true
   },
   "source": [
    "#### Mean and variance of Stock1 ltd"
   ]
  },
  {
   "cell_type": "code",
   "execution_count": 20,
   "metadata": {},
   "outputs": [
    {
     "name": "stdout",
     "output_type": "stream",
     "text": [
      "0.023735876033149698\n"
     ]
    }
   ],
   "source": [
    "#print mean\n",
    "print(Stock1_sorted.Gain.mean())"
   ]
  },
  {
   "cell_type": "code",
   "execution_count": 21,
   "metadata": {},
   "outputs": [
    {
     "name": "stdout",
     "output_type": "stream",
     "text": [
      "9.9638064510646\n"
     ]
    }
   ],
   "source": [
    "#print variance\n",
    "print(Stock1_sorted.Gain.var())\n"
   ]
  },
  {
   "cell_type": "markdown",
   "metadata": {
    "collapsed": true
   },
   "source": [
    "#### Mean and variance of Stock2 ltd"
   ]
  },
  {
   "cell_type": "code",
   "execution_count": 22,
   "metadata": {},
   "outputs": [
    {
     "name": "stdout",
     "output_type": "stream",
     "text": [
      "0.08916734033953114\n"
     ]
    }
   ],
   "source": [
    "#print mean\n",
    "print(Stock2_sorted.Gain.mean())"
   ]
  },
  {
   "cell_type": "code",
   "execution_count": 23,
   "metadata": {},
   "outputs": [
    {
     "name": "stdout",
     "output_type": "stream",
     "text": [
      "2.238330293171965\n"
     ]
    }
   ],
   "source": [
    "#print variance\n",
    "print(Stock2_sorted.Gain.var())"
   ]
  },
  {
   "cell_type": "markdown",
   "metadata": {
    "collapsed": true
   },
   "source": [
    "#### Mean and variance of 3 M India ltd"
   ]
  },
  {
   "cell_type": "code",
   "execution_count": 24,
   "metadata": {},
   "outputs": [
    {
     "name": "stdout",
     "output_type": "stream",
     "text": [
      "0.10998377939983756\n"
     ]
    }
   ],
   "source": [
    "#Print mean\n",
    "print(Stock3_sorted.Gain.mean())"
   ]
  },
  {
   "cell_type": "code",
   "execution_count": 25,
   "metadata": {},
   "outputs": [
    {
     "name": "stdout",
     "output_type": "stream",
     "text": [
      "3.6470959412951216\n"
     ]
    }
   ],
   "source": [
    "#Print variance\n",
    "print(Stock3_sorted.Gain.var())"
   ]
  },
  {
   "cell_type": "markdown",
   "metadata": {
    "collapsed": true
   },
   "source": [
    "#### Mean and variance of Stock4 ltd"
   ]
  },
  {
   "cell_type": "code",
   "execution_count": 26,
   "metadata": {},
   "outputs": [
    {
     "name": "stdout",
     "output_type": "stream",
     "text": [
      "0.0727485852869846\n"
     ]
    }
   ],
   "source": [
    "# Print mean\n",
    "print(Stock4_sorted.Gain.mean())"
   ]
  },
  {
   "cell_type": "code",
   "execution_count": 27,
   "metadata": {},
   "outputs": [
    {
     "name": "stdout",
     "output_type": "stream",
     "text": [
      "4.158931435930442\n"
     ]
    }
   ],
   "source": [
    "#Print variance\n",
    "print(Stock4_sorted.Gain.var())"
   ]
  },
  {
   "cell_type": "markdown",
   "metadata": {
    "collapsed": true
   },
   "source": [
    "### c.Which stock has highest volatality and draw the distribution of daily returns for all the stock"
   ]
  },
  {
   "cell_type": "markdown",
   "metadata": {
    "collapsed": true
   },
   "source": [
    "#### Answer: From below graph, we can see that Stock1 stocks have highest variance compared to other stocks.\n",
    "\n",
    "#### and that implies it has highest volatility."
   ]
  },
  {
   "cell_type": "code",
   "execution_count": 28,
   "metadata": {
    "scrolled": true
   },
   "outputs": [
    {
     "name": "stderr",
     "output_type": "stream",
     "text": [
      "C:\\Users\\Harish\\Anaconda3\\lib\\site-packages\\statsmodels\\nonparametric\\kde.py:454: RuntimeWarning: invalid value encountered in greater\n",
      "  X = X[np.logical_and(X>clip[0], X<clip[1])] # won't work for two columns.\n",
      "C:\\Users\\Harish\\Anaconda3\\lib\\site-packages\\statsmodels\\nonparametric\\kde.py:454: RuntimeWarning: invalid value encountered in less\n",
      "  X = X[np.logical_and(X>clip[0], X<clip[1])] # won't work for two columns.\n"
     ]
    },
    {
     "data": {
      "text/plain": [
       "<matplotlib.axes._subplots.AxesSubplot at 0x1f21b855780>"
      ]
     },
     "execution_count": 28,
     "metadata": {},
     "output_type": "execute_result"
    },
    {
     "data": {
      "image/png": "[encoded data removed]",
      "text/plain": [
       "<matplotlib.figure.Figure at 0x1f21b881908>"
      ]
     },
     "metadata": {},
     "output_type": "display_data"
    }
   ],
   "source": [
    "sn.set(rc={\"figure.figsize\": (15, 10)});\n",
    "sn.distplot( Stock2_sorted.Gain, hist = False, color = 'b' )\n",
    "sn.distplot( Stock4_sorted.Gain, hist = False, color = 'r' )\n",
    "sn.distplot( Stock1_sorted.Gain, hist = False, color = 'g' )\n",
    "sn.distplot( Stock3_sorted.Gain, hist = False, color = 'y' )\n",
    "\n"
   ]
  },
  {
   "cell_type": "markdown",
   "metadata": {
    "collapsed": true
   },
   "source": [
    "#### d. Are the percentage daily returns of these stocks correlated?\n",
    "#### Compute the correlation between the daily returns of the above 4 Stocks and draw a heatmap"
   ]
  },
  {
   "cell_type": "markdown",
   "metadata": {
    "collapsed": true
   },
   "source": [
    "#### Correlation between Stock1 and Stock2 Stock"
   ]
  },
  {
   "cell_type": "code",
   "execution_count": 29,
   "metadata": {
    "collapsed": true
   },
   "outputs": [],
   "source": [
    "Stock1_Stock2_df = Stock1_sorted[['Date', 'Gain']].merge(\n",
    "  Stock2_sorted[['Date', 'Gain']],\n",
    "  on = ['Date'],\n",
    "  suffixes=('_Stock1', '_Stock2'), how = 'inner' )"
   ]
  },
  {
   "cell_type": "code",
   "execution_count": 30,
   "metadata": {},
   "outputs": [
    {
     "name": "stdout",
     "output_type": "stream",
     "text": [
      "            Gain_Stock1  Gain_Stock2\n",
      "Gain_Stock1    1.000000    0.177364\n",
      "Gain_Stock2  0.177364    1.000000\n"
     ]
    }
   ],
   "source": [
    "print(Stock1_Stock2_df.corr())"
   ]
  },
  {
   "cell_type": "markdown",
   "metadata": {
    "collapsed": true
   },
   "source": [
    "#### Correlation between Stock1, Stock2 and 3M India Stock"
   ]
  },
  {
   "cell_type": "code",
   "execution_count": 31,
   "metadata": {
    "collapsed": true
   },
   "outputs": [],
   "source": [
    "Stock1_Stock2_3M_df = Stock1_Stock2_df.merge(\n",
    "    Stock3_sorted[['Date','Gain']],\n",
    "    on=['Date'],how='inner')"
   ]
  },
  {
   "cell_type": "code",
   "execution_count": 32,
   "metadata": {},
   "outputs": [
    {
     "name": "stdout",
     "output_type": "stream",
     "text": [
      "        Date  Gain_Stock1  Gain_Stock2  Gain\n",
      "0 2012-04-02       NaN         NaN   NaN\n",
      "1 2012-04-03 -0.144718       -0.05  7.17\n",
      "2 2012-04-04 -1.352657       -0.28  0.46\n",
      "3 2012-04-09  0.636631       -1.04  4.31\n",
      "4 2012-04-10 -0.632603        1.05  1.49\n"
     ]
    }
   ],
   "source": [
    "print(Stock1_Stock2_3M_df[0:5])"
   ]
  },
  {
   "cell_type": "code",
   "execution_count": 33,
   "metadata": {
    "collapsed": true
   },
   "outputs": [],
   "source": [
    "All_Stocks_df = Stock1_Stock2_3M_df.merge(\n",
    "  Stock4_sorted[['Date', 'Gain']], suffixes=('_Stock3', '_Stock4'),\n",
    "  on = ['Date'], how = 'inner' )"
   ]
  },
  {
   "cell_type": "code",
   "execution_count": 34,
   "metadata": {},
   "outputs": [
    {
     "name": "stdout",
     "output_type": "stream",
     "text": [
      "              Gain_Stock1  Gain_Stock2  Gain_Stock3  Gain_Stock4\n",
      "Gain_Stock1      1.000000    0.177578      0.235879    0.232637\n",
      "Gain_Stock2    0.177578    1.000000      0.218673    0.240559\n",
      "Gain_Stock3  0.235879    0.218673      1.000000    0.169899\n",
      "Gain_Stock4    0.232637    0.240559      0.169899    1.000000\n"
     ]
    }
   ],
   "source": [
    "print(All_Stocks_df.corr())"
   ]
  },
  {
   "cell_type": "code",
   "execution_count": 35,
   "metadata": {},
   "outputs": [
    {
     "data": {
      "text/plain": [
       "<matplotlib.axes._subplots.AxesSubplot at 0x1f21b7d4438>"
      ]
     },
     "execution_count": 35,
     "metadata": {},
     "output_type": "execute_result"
    },
    {
     "data": {
      "image/png": "[encoded data removed]",
      "text/plain": [
       "<matplotlib.figure.Figure at 0x1f21b8879b0>"
      ]
     },
     "metadata": {},
     "output_type": "display_data"
    }
   ],
   "source": [
    "#Heat map\n",
    "sn.set(rc={\"figure.figsize\": (6, 4)});\n",
    "sn.heatmap( All_Stocks_df.corr() )\n"
   ]
  },
  {
   "cell_type": "markdown",
   "metadata": {
    "collapsed": true
   },
   "source": [
    "#### Conclusion:From the above heatmap,we can coclude that Stock4 and Stock2 are slightly more correlated than other stocks ."
   ]
  },
  {
   "cell_type": "markdown",
   "metadata": {
    "collapsed": true
   },
   "source": [
    "### Question 4.2 Monthly Return Analysis\n"
   ]
  },
  {
   "cell_type": "markdown",
   "metadata": {
    "collapsed": true
   },
   "source": [
    "#### a) calculate Mean and variance of  percentage monthly returns"
   ]
  },
  {
   "cell_type": "code",
   "execution_count": 36,
   "metadata": {
    "collapsed": true
   },
   "outputs": [],
   "source": [
    "ohlc_dict = {'Open Price': 'first', 'Close Price':'last'}\n"
   ]
  },
  {
   "cell_type": "code",
   "execution_count": 37,
   "metadata": {
    "collapsed": true
   },
   "outputs": [],
   "source": [
    "Stock1_sorted.Date=pd.to_datetime(Stock1_sorted.Date)"
   ]
  },
  {
   "cell_type": "markdown",
   "metadata": {},
   "source": [
    "##### Resample the daily data to create mothly records"
   ]
  },
  {
   "cell_type": "code",
   "execution_count": 38,
   "metadata": {
    "collapsed": true
   },
   "outputs": [],
   "source": [
    "Stock1_monthly_df = Stock1_sorted.resample('M', on='Date').apply( ohlc_dict ).reset_index()"
   ]
  },
  {
   "cell_type": "code",
   "execution_count": 39,
   "metadata": {
    "collapsed": true
   },
   "outputs": [],
   "source": [
    "\n",
    "Stock1_monthly_df = Stock1_monthly_df.set_index(pd.DatetimeIndex(Stock1_monthly_df['Date']) )\n",
    "Stock1_monthly_df = Stock1_monthly_df.sort_index( ascending = True )"
   ]
  },
  {
   "cell_type": "code",
   "execution_count": 40,
   "metadata": {
    "collapsed": true
   },
   "outputs": [],
   "source": [
    "#Rename the columns\n",
    "Stock1_monthly_df.columns=['Date','Open','Close']"
   ]
  },
  {
   "cell_type": "code",
   "execution_count": 41,
   "metadata": {
    "collapsed": true
   },
   "outputs": [],
   "source": [
    "Stock1_monthly_df['m_gain']=Stock1_monthly_df.Close.pct_change()"
   ]
  },
  {
   "cell_type": "code",
   "execution_count": 42,
   "metadata": {
    "collapsed": true
   },
   "outputs": [],
   "source": [
    "Stock1_monthly_df_mean=Stock1_monthly_df.m_gain.mean()"
   ]
  },
  {
   "cell_type": "markdown",
   "metadata": {
    "collapsed": true
   },
   "source": [
    "#### Mean and variance of monthly return of Stock1 Stock"
   ]
  },
  {
   "cell_type": "code",
   "execution_count": 43,
   "metadata": {},
   "outputs": [
    {
     "name": "stdout",
     "output_type": "stream",
     "text": [
      "0.006030906533102153\n"
     ]
    }
   ],
   "source": [
    "print(Stock1_monthly_df_mean)"
   ]
  },
  {
   "cell_type": "code",
   "execution_count": 44,
   "metadata": {
    "collapsed": true
   },
   "outputs": [],
   "source": [
    "Stock1_monthly_df_variance=Stock1_monthly_df.m_gain.var()"
   ]
  },
  {
   "cell_type": "code",
   "execution_count": 45,
   "metadata": {},
   "outputs": [
    {
     "name": "stdout",
     "output_type": "stream",
     "text": [
      "0.021327191643349428\n"
     ]
    }
   ],
   "source": [
    "print(Stock1_monthly_df_variance)"
   ]
  },
  {
   "cell_type": "markdown",
   "metadata": {
    "collapsed": true
   },
   "source": [
    "#### Calculate Mean and Variance for Stock2"
   ]
  },
  {
   "cell_type": "code",
   "execution_count": 46,
   "metadata": {
    "collapsed": true
   },
   "outputs": [],
   "source": [
    "Stock2_sorted.Date=pd.to_datetime(Stock2_sorted.Date)"
   ]
  },
  {
   "cell_type": "code",
   "execution_count": 47,
   "metadata": {
    "collapsed": true
   },
   "outputs": [],
   "source": [
    "Stock2_monthly_df = Stock2_sorted.resample('M', on='Date').apply( ohlc_dict ).reset_index()\n",
    "Stock2_monthly_df = Stock2_monthly_df.set_index(pd.DatetimeIndex(Stock2_monthly_df['Date']) )\n",
    "Stock2_monthly_df = Stock2_monthly_df.sort_index( ascending = True )\n",
    "Stock2_monthly_df.columns=['Date','Open','Close']"
   ]
  },
  {
   "cell_type": "code",
   "execution_count": 48,
   "metadata": {
    "collapsed": true
   },
   "outputs": [],
   "source": [
    "Stock2_monthly_df['m_gain']=Stock2_monthly_df.Close.pct_change()"
   ]
  },
  {
   "cell_type": "code",
   "execution_count": 49,
   "metadata": {},
   "outputs": [
    {
     "name": "stdout",
     "output_type": "stream",
     "text": [
      "0.016747407280070653\n"
     ]
    }
   ],
   "source": [
    "Stock2_monthly_df_mean=Stock2_monthly_df.m_gain.mean()\n",
    "print(Stock2_monthly_df_mean)"
   ]
  },
  {
   "cell_type": "code",
   "execution_count": 50,
   "metadata": {},
   "outputs": [
    {
     "name": "stdout",
     "output_type": "stream",
     "text": [
      "0.002491946185204578\n"
     ]
    }
   ],
   "source": [
    "Stock2_monthly_df_variance=Stock2_monthly_df.m_gain.var()\n",
    "print(Stock2_monthly_df_variance)"
   ]
  },
  {
   "cell_type": "markdown",
   "metadata": {
    "collapsed": true
   },
   "source": [
    "#### Calculate Mean and Variance for 3M India"
   ]
  },
  {
   "cell_type": "code",
   "execution_count": 51,
   "metadata": {
    "collapsed": true
   },
   "outputs": [],
   "source": [
    "Stock3_sorted.Date=pd.to_datetime(Stock3_sorted.Date)\n",
    "Stock3_monthly_df = Stock3_sorted.resample('M', on='Date').apply( ohlc_dict ).reset_index()"
   ]
  },
  {
   "cell_type": "code",
   "execution_count": 52,
   "metadata": {
    "collapsed": true
   },
   "outputs": [],
   "source": [
    "\n",
    "Stock3_monthly_df = Stock3_monthly_df.set_index(pd.DatetimeIndex(Stock3_monthly_df['Date']) )\n",
    "Stock3_monthly_df = Stock3_monthly_df.sort_index( ascending = True )\n",
    "Stock3_monthly_df.columns=['Date','Open','Close']"
   ]
  },
  {
   "cell_type": "code",
   "execution_count": 53,
   "metadata": {
    "collapsed": true
   },
   "outputs": [],
   "source": [
    "Stock3_monthly_df['m_gain']=Stock3_monthly_df.Close.pct_change()"
   ]
  },
  {
   "cell_type": "code",
   "execution_count": 54,
   "metadata": {},
   "outputs": [
    {
     "name": "stdout",
     "output_type": "stream",
     "text": [
      "0.02123483487792351\n"
     ]
    }
   ],
   "source": [
    "Stock3_monthly_df_mean=Stock3_monthly_df.m_gain.mean()\n",
    "print(Stock3_monthly_df_mean)"
   ]
  },
  {
   "cell_type": "code",
   "execution_count": 55,
   "metadata": {},
   "outputs": [
    {
     "name": "stdout",
     "output_type": "stream",
     "text": [
      "0.007162948989480248\n"
     ]
    }
   ],
   "source": [
    "Stock3_monthly_df_variance=Stock3_monthly_df.m_gain.var()\n",
    "print(Stock3_monthly_df_variance)"
   ]
  },
  {
   "cell_type": "markdown",
   "metadata": {
    "collapsed": true
   },
   "source": [
    "#### Calculate Mean and Variance for Stock4"
   ]
  },
  {
   "cell_type": "code",
   "execution_count": 56,
   "metadata": {
    "collapsed": true
   },
   "outputs": [],
   "source": [
    "Stock4_sorted.Date=pd.to_datetime(Stock4_sorted.Date)\n",
    "Stock4_monthly_df = Stock4_sorted.resample('M', on='Date').apply( ohlc_dict ).reset_index()"
   ]
  },
  {
   "cell_type": "code",
   "execution_count": 57,
   "metadata": {
    "collapsed": true
   },
   "outputs": [],
   "source": [
    "Stock4_monthly_df = Stock4_monthly_df.set_index(pd.DatetimeIndex(Stock4_monthly_df['Date']) )\n",
    "Stock4_monthly_df = Stock4_monthly_df.sort_index( ascending = True )\n",
    "Stock4_monthly_df.columns=['Date','Open','Close']"
   ]
  },
  {
   "cell_type": "code",
   "execution_count": 58,
   "metadata": {
    "collapsed": true
   },
   "outputs": [],
   "source": [
    "Stock4_monthly_df['m_gain']=Stock4_monthly_df.Close.pct_change()"
   ]
  },
  {
   "cell_type": "code",
   "execution_count": 59,
   "metadata": {},
   "outputs": [
    {
     "name": "stdout",
     "output_type": "stream",
     "text": [
      "0.016232616234350312\n"
     ]
    }
   ],
   "source": [
    "Stock4_monthly_df_mean=Stock4_monthly_df.m_gain.mean()\n",
    "print(Stock4_monthly_df_mean)"
   ]
  },
  {
   "cell_type": "code",
   "execution_count": 60,
   "metadata": {},
   "outputs": [
    {
     "name": "stdout",
     "output_type": "stream",
     "text": [
      "0.009378330482240557\n"
     ]
    }
   ],
   "source": [
    "Stock4_monthly_df_variance=Stock4_monthly_df.m_gain.var()\n",
    "print(Stock4_monthly_df_variance)"
   ]
  },
  {
   "cell_type": "markdown",
   "metadata": {
    "collapsed": true
   },
   "source": [
    "#### c. Which stock has highest volatility as far as monthly returns is concerned? Draw the box-­-plot of monthly returns for all stock in one plot. \n"
   ]
  },
  {
   "cell_type": "code",
   "execution_count": 63,
   "metadata": {
    "collapsed": true
   },
   "outputs": [],
   "source": [
    "#Remove NaNs from monthly gains from all the stocks\n",
    "Stock1=np.array(Stock1_monthly_df.m_gain)\n",
    "Stock1= Stock1[~np.isnan(Stock1_monthly_df.m_gain)]\n",
    "\n",
    "Stock2 = np.array(Stock2_monthly_df.m_gain)\n",
    "Stock2=Stock2[~np.isnan(Stock2_monthly_df.m_gain)]\n",
    "\n",
    "Stock3 = np.array(Stock3_monthly_df.m_gain)\n",
    "Stock3=Stock3[~np.isnan(Stock3_monthly_df.m_gain)]\n",
    "\n",
    "Stock4 = np.array(Stock4_monthly_df.m_gain)\n",
    "Stock4=Stock4[~np.isnan(Stock4_monthly_df.m_gain)]\n",
    "\n",
    "AllStocks =[Stock1,Stock2,Stock3,Stock4]"
   ]
  },
  {
   "cell_type": "code",
   "execution_count": 64,
   "metadata": {},
   "outputs": [
    {
     "data": {
      "text/plain": [
       "[<matplotlib.text.Text at 0x1f21bdc7a20>,\n",
       " <matplotlib.text.Text at 0x1f21bdce278>,\n",
       " <matplotlib.text.Text at 0x1f21be694e0>,\n",
       " <matplotlib.text.Text at 0x1f21be69f60>]"
      ]
     },
     "execution_count": 64,
     "metadata": {},
     "output_type": "execute_result"
    },
    {
     "data": {
      "image/png": "[encoded data removed]",
      "text/plain": [
       "<matplotlib.figure.Figure at 0x1f21bd6f3c8>"
      ]
     },
     "metadata": {},
     "output_type": "display_data"
    }
   ],
   "source": [
    "fig = plt.figure(1, figsize=(20, 10))\n",
    "ax = fig.add_subplot(111)\n",
    "bp = ax.boxplot(AllStocks)\n",
    "ax.set_xticklabels(['Stock1', 'Stock2', 'Stock3', 'Stock4'])\n"
   ]
  },
  {
   "cell_type": "markdown",
   "metadata": {
    "collapsed": true
   },
   "source": [
    "#### Conclusion: As variance of Stock1 stock is greater than those of other stocks,Stock1 Stock has highest volatility"
   ]
  },
  {
   "cell_type": "markdown",
   "metadata": {
    "collapsed": true
   },
   "source": [
    "### c) Which stock has highest probability of giving a return (monthly) of 2% or more"
   ]
  },
  {
   "cell_type": "code",
   "execution_count": 67,
   "metadata": {
    "collapsed": true
   },
   "outputs": [],
   "source": [
    "from scipy import stats"
   ]
  },
  {
   "cell_type": "code",
   "execution_count": 68,
   "metadata": {},
   "outputs": [
    {
     "data": {
      "text/plain": [
       "0.46189784091227337"
      ]
     },
     "execution_count": 68,
     "metadata": {},
     "output_type": "execute_result"
    }
   ],
   "source": [
    "#Probability of Stock1\n",
    "1-stats.norm.cdf( 0.02,\n",
    "             loc=Stock1_monthly_df.m_gain.mean(),\n",
    "             scale=Stock1_monthly_df.m_gain.std())"
   ]
  },
  {
   "cell_type": "code",
   "execution_count": 69,
   "metadata": {},
   "outputs": [
    {
     "data": {
      "text/plain": [
       "0.47402454192949084"
      ]
     },
     "execution_count": 69,
     "metadata": {},
     "output_type": "execute_result"
    }
   ],
   "source": [
    "#Probability of Stock2\n",
    "1-stats.norm.cdf( 0.02,\n",
    "             loc=Stock2_monthly_df.m_gain.mean(),\n",
    "             scale=Stock2_monthly_df.m_gain.std())"
   ]
  },
  {
   "cell_type": "code",
   "execution_count": 70,
   "metadata": {},
   "outputs": [
    {
     "data": {
      "text/plain": [
       "0.5058204641153371"
      ]
     },
     "execution_count": 70,
     "metadata": {},
     "output_type": "execute_result"
    }
   ],
   "source": [
    "#Probability of 3M India\n",
    "1-stats.norm.cdf( 0.02,\n",
    "             loc=Stock3_monthly_df.m_gain.mean(),\n",
    "             scale=Stock3_monthly_df.m_gain.std())"
   ]
  },
  {
   "cell_type": "code",
   "execution_count": 71,
   "metadata": {},
   "outputs": [
    {
     "data": {
      "text/plain": [
       "0.48448407653028469"
      ]
     },
     "execution_count": 71,
     "metadata": {},
     "output_type": "execute_result"
    }
   ],
   "source": [
    "#Probability of Stock4\n",
    "1-stats.norm.cdf( 0.02,\n",
    "             loc=Stock4_monthly_df.m_gain.mean(),\n",
    "             scale=Stock4_monthly_df.m_gain.std())"
   ]
  },
  {
   "cell_type": "markdown",
   "metadata": {
    "collapsed": true
   },
   "source": [
    "#### Conclusion:3M India has 50% probability ( Almost half ) of giving a return of 2%."
   ]
  },
  {
   "cell_type": "markdown",
   "metadata": {
    "collapsed": true
   },
   "source": [
    "#### d) Which stock has highest probability of making a loss (monthly) of 2% or more"
   ]
  },
  {
   "cell_type": "code",
   "execution_count": 72,
   "metadata": {},
   "outputs": [
    {
     "data": {
      "text/plain": [
       "0.42926446328408224"
      ]
     },
     "execution_count": 72,
     "metadata": {},
     "output_type": "execute_result"
    }
   ],
   "source": [
    "#Probability of Stock1\n",
    "stats.norm.cdf( -0.02,\n",
    "             loc=Stock1_monthly_df.m_gain.mean(),\n",
    "             scale=Stock1_monthly_df.m_gain.std())"
   ]
  },
  {
   "cell_type": "code",
   "execution_count": 73,
   "metadata": {},
   "outputs": [
    {
     "data": {
      "text/plain": [
       "0.23082432071922787"
      ]
     },
     "execution_count": 73,
     "metadata": {},
     "output_type": "execute_result"
    }
   ],
   "source": [
    "#Probability of Stock2\n",
    "stats.norm.cdf( -0.02,\n",
    "             loc=Stock2_monthly_df.m_gain.mean(),\n",
    "             scale=Stock2_monthly_df.m_gain.std())"
   ]
  },
  {
   "cell_type": "code",
   "execution_count": 74,
   "metadata": {},
   "outputs": [
    {
     "data": {
      "text/plain": [
       "0.31305391033623386"
      ]
     },
     "execution_count": 74,
     "metadata": {},
     "output_type": "execute_result"
    }
   ],
   "source": [
    "#Probability of 3M India\n",
    "stats.norm.cdf( -0.02,\n",
    "             loc=Stock3_monthly_df.m_gain.mean(),\n",
    "             scale=Stock3_monthly_df.m_gain.std())"
   ]
  },
  {
   "cell_type": "code",
   "execution_count": 75,
   "metadata": {},
   "outputs": [
    {
     "data": {
      "text/plain": [
       "0.35414918751590307"
      ]
     },
     "execution_count": 75,
     "metadata": {},
     "output_type": "execute_result"
    }
   ],
   "source": [
    "#Probability of Stock4\n",
    "stats.norm.cdf( -0.02,\n",
    "             loc=Stock4_monthly_df.m_gain.mean(),\n",
    "             scale=Stock4_monthly_df.m_gain.std())"
   ]
  },
  {
   "cell_type": "markdown",
   "metadata": {
    "collapsed": true
   },
   "source": [
    "#### Conclusion:Stock1 has highest probability (43% probability) of making a loss of 2%."
   ]
  },
  {
   "cell_type": "markdown",
   "metadata": {
    "collapsed": true
   },
   "source": [
    "### 3. PORTFOLIO ANALYSIS"
   ]
  },
  {
   "cell_type": "markdown",
   "metadata": {
    "collapsed": true
   },
   "source": [
    "#### The weight of investment in each stock is 0.25 and total weight is 1\n",
    "#### a) Average monthly  returns of the portfolio and variance of monthly returns of the portfolio"
   ]
  },
  {
   "cell_type": "markdown",
   "metadata": {
    "collapsed": true
   },
   "source": [
    "#### The Expected return is the weighted average of expected returns of the individual securities in the portfolio"
   ]
  },
  {
   "cell_type": "code",
   "execution_count": 105,
   "metadata": {
    "collapsed": true,
    "scrolled": true
   },
   "outputs": [],
   "source": [
    "#Expected_Return = Stock1_monthly_df_mean*0.25 +Stock2_monthly_df_mean*0.25 + Stock3_monthly_df_mean*0.25+Stock4_monthly_df_mean*0.25"
   ]
  },
  {
   "cell_type": "code",
   "execution_count": 106,
   "metadata": {
    "collapsed": true
   },
   "outputs": [],
   "source": [
    "#exp_val=round(Expected_Return*100,2)"
   ]
  },
  {
   "cell_type": "code",
   "execution_count": 76,
   "metadata": {},
   "outputs": [
    {
     "name": "stdout",
     "output_type": "stream",
     "text": [
      "[ 0.00603091  0.01674741  0.02123483  0.01623262]\n"
     ]
    }
   ],
   "source": [
    "# Convert the mean of individual stocks in array\n",
    "x=np.array([Stock1_monthly_df_mean,Stock2_monthly_df_mean,Stock3_monthly_df_mean,Stock4_monthly_df_mean])\n",
    "print(x)\n"
   ]
  },
  {
   "cell_type": "code",
   "execution_count": 83,
   "metadata": {},
   "outputs": [
    {
     "name": "stdout",
     "output_type": "stream",
     "text": [
      "Expected Value is  0.0151\n",
      "\n",
      "\n",
      "Below is covariance matrix\n",
      "\n",
      "\n",
      "[[ 0.02132719  0.00217317  0.00271125  0.00531295]\n",
      " [ 0.00217317  0.00249195  0.00157434  0.00112962]\n",
      " [ 0.00271125  0.00157434  0.00716295  0.00256584]\n",
      " [ 0.00531295  0.00112962  0.00256584  0.00937833]]\n"
     ]
    }
   ],
   "source": [
    "#Weights of the stocks is 0.25 which is added up to 1\n",
    "weights = np.array([0.25,0.25,0.25,0.25])\n",
    "exp_val=np.sum(x*weights)\n",
    "\n",
    "print(\"Expected Value is \",round(exp_val,4))\n",
    "print(\"\\n\")\n",
    "#Calculate Covariance matrix\n",
    "y = np.vstack([Stock1,Stock2,Stock3,Stock4])\n",
    "\n",
    "cov = np.cov(y)\n",
    "print(\"Below is covariance matrix\")\n",
    "print(\"\\n\")\n",
    "print(cov)\n"
   ]
  },
  {
   "cell_type": "code",
   "execution_count": 85,
   "metadata": {},
   "outputs": [
    {
     "name": "stdout",
     "output_type": "stream",
     "text": [
      "Variance of portfolio is  0.0045\n"
     ]
    }
   ],
   "source": [
    "#Calcualte the variance of monthly return of portfolio\n",
    "covar=np.dot(weights.T,np.dot(cov,weights))\n",
    "print(\"Variance of portfolio is \",round(covar,4))"
   ]
  },
  {
   "cell_type": "markdown",
   "metadata": {
    "collapsed": true
   },
   "source": [
    "#### Answer: Expected return of portfolio is 0.01506 (1.5%) and Expected variance is 0.0045"
   ]
  },
  {
   "cell_type": "markdown",
   "metadata": {},
   "source": [
    "#### b) If investment on an alternative instrument gives you an average return of 0.5% monthly. \n",
    "#### Is it wiser to invest in the alternative instrument or the equally weighted portfolio you created above? Can you verify if the above portfolio monthly returns are higher than 0.5%? \n"
   ]
  },
  {
   "cell_type": "code",
   "execution_count": 111,
   "metadata": {},
   "outputs": [
    {
     "data": {
      "text/plain": [
       "0.98802693586213008"
      ]
     },
     "execution_count": 111,
     "metadata": {},
     "output_type": "execute_result"
    }
   ],
   "source": [
    "#Calculate the probability\n",
    "1-stats.norm.cdf( 0.005,\n",
    "             loc=exp_val,\n",
    "             scale=covar)"
   ]
  },
  {
   "cell_type": "markdown",
   "metadata": {
    "collapsed": true
   },
   "source": [
    "#### Answer: The probability of equally weighted portfolio's monthly return higher than 0.5% is 0.988. \n",
    "#### Hence it's wise to invest in Equally weighted portfolio we have created"
   ]
  },
  {
   "cell_type": "markdown",
   "metadata": {
    "collapsed": true
   },
   "source": [
    "#### c) Randomly change the weights of the stocks in the portfolio and check the average returns and the variance of the portfolio. Create at least 10 different weight combinations of stocks and calculate the monthly mean returns and variances of all combination of portfolios. "
   ]
  },
  {
   "cell_type": "markdown",
   "metadata": {
    "collapsed": true
   },
   "source": [
    "##### Create 10 Iteration of weights"
   ]
  },
  {
   "cell_type": "code",
   "execution_count": 86,
   "metadata": {
    "collapsed": true
   },
   "outputs": [],
   "source": [
    "#Generate a random number\n",
    "number=range(1,11)\n"
   ]
  },
  {
   "cell_type": "code",
   "execution_count": 87,
   "metadata": {
    "collapsed": true
   },
   "outputs": [],
   "source": [
    "# Function to calculate expected value of portfolio and variance\n",
    "def calculate(weights, meanReturns, covMatrix):\n",
    "     \n",
    "     portReturn = np.sum(weights*meanReturns)\n",
    "     portVar = (np.dot(weights.T, np.dot(covMatrix, weights)))\n",
    "     return portReturn, portVar"
   ]
  },
  {
   "cell_type": "code",
   "execution_count": 99,
   "metadata": {},
   "outputs": [
    {
     "name": "stdout",
     "output_type": "stream",
     "text": [
      "set of random weight for Iterartion--> 1 is [ 0.45052389  0.06906858  0.34722844  0.1331791 ]\n",
      "Mean monthly return for iteration--> 1 is 0.0134089708105\n",
      "Variance of monthly return for iteration--> 1 is 0.00732533806672\n",
      "\n",
      "\n",
      "set of random weight for Iterartion--> 2 is [ 0.4799019   0.29024453  0.01117165  0.21868192]\n",
      "Mean monthly return for iteration--> 2 is 0.0115420947336\n",
      "Variance of monthly return for iteration--> 2 is 0.00748684320421\n",
      "\n",
      "\n",
      "set of random weight for Iterartion--> 3 is [ 0.3019551   0.43180981  0.0272148   0.23902029]\n",
      "Mean monthly return for iteration--> 3 is 0.0135105842351\n",
      "Variance of monthly return for iteration--> 3 is 0.00463202806684\n",
      "\n",
      "\n",
      "set of random weight for Iterartion--> 4 is [ 0.11650573  0.18974653  0.26241781  0.43132992]\n",
      "Mean monthly return for iteration--> 4 is 0.0164544096343\n",
      "Variance of monthly return for iteration--> 4 is 0.0043356420406\n",
      "\n",
      "\n",
      "set of random weight for Iterartion--> 5 is [ 0.46729093  0.21322746  0.08883663  0.23064498]\n",
      "Mean monthly return for iteration--> 5 is 0.0120195976622\n",
      "Variance of monthly return for iteration--> 5 is 0.00740506151986\n",
      "\n",
      "\n",
      "set of random weight for Iterartion--> 6 is [ 0.34023424  0.38405902  0.07244339  0.20326336]\n",
      "Mean monthly return for iteration--> 6 is 0.0133217331399\n",
      "Variance of monthly return for iteration--> 6 is 0.00503743693998\n",
      "\n",
      "\n",
      "set of random weight for Iterartion--> 7 is [ 0.37412144  0.31465864  0.16454931  0.14667061]\n",
      "Mean monthly return for iteration--> 7 is 0.0134010329845\n",
      "Variance of monthly return for iteration--> 7 is 0.00544721280608\n",
      "\n",
      "\n",
      "set of random weight for Iterartion--> 8 is [ 0.25286756  0.3202319   0.05223452  0.37466602]\n",
      "Mean monthly return for iteration--> 8 is 0.0140790758146\n",
      "Variance of monthly return for iteration--> 8 is 0.00480971475452\n",
      "\n",
      "\n",
      "set of random weight for Iterartion--> 9 is [ 0.54088211  0.0766089   0.26458172  0.11792727]\n",
      "Mean monthly return for iteration--> 9 is 0.012077627226\n",
      "Variance of monthly return for iteration--> 9 is 0.0087640383617\n",
      "\n",
      "\n",
      "set of random weight for Iterartion--> 10 is [ 0.30525599  0.25425653  0.15773005  0.28275743]\n",
      "Mean monthly return for iteration--> 10 is 0.0140383724649\n",
      "Variance of monthly return for iteration--> 10 is 0.00510955106011\n",
      "\n",
      "\n"
     ]
    }
   ],
   "source": [
    "#Generate weights in random fashion so that they are added up to 1 \n",
    "import random\n",
    "random.seed(4)\n",
    "d=[]\n",
    "for i in number:\n",
    "    weights = np.random.random(4)\n",
    "    weights /= weights.sum()\n",
    "    print(\"set of random weight for Iterartion-->\",i,\"is\", weights)\n",
    "    pret, pvar = calculate(weights, x, cov)\n",
    "    \n",
    "    d.append((weights[0],weights[1],weights[2],weights[3],pret,pvar))\n",
    "    df=pd.DataFrame(d,columns=('Stock1_weight','Stock2_weight','3M_weight','Stock4_weight','mean_return','var_return'))\n",
    "    print(\"Mean monthly return for iteration-->\",i,\"is\",pret)\n",
    "    print(\"Variance of monthly return for iteration-->\",i,\"is\",pvar)\n",
    "    print(\"\\n\")"
   ]
  },
  {
   "cell_type": "markdown",
   "metadata": {},
   "source": [
    "#### d. Create a dataframe where the stocks weight, mean and variances of all possible portfolio combinations are stored. The columns of the dataframe should be "
   ]
  },
  {
   "cell_type": "code",
   "execution_count": 100,
   "metadata": {},
   "outputs": [
    {
     "name": "stdout",
     "output_type": "stream",
     "text": [
      "   Stock1_weight  Stock2_weight  3M_weight  Stock4_weight  mean_return  var_return\n",
      "0    0.450524      0.069069   0.347228      0.133179     0.013409    0.007325\n",
      "1    0.479902      0.290245   0.011172      0.218682     0.011542    0.007487\n",
      "2    0.301955      0.431810   0.027215      0.239020     0.013511    0.004632\n",
      "3    0.116506      0.189747   0.262418      0.431330     0.016454    0.004336\n",
      "4    0.467291      0.213227   0.088837      0.230645     0.012020    0.007405\n",
      "5    0.340234      0.384059   0.072443      0.203263     0.013322    0.005037\n",
      "6    0.374121      0.314659   0.164549      0.146671     0.013401    0.005447\n",
      "7    0.252868      0.320232   0.052235      0.374666     0.014079    0.004810\n",
      "8    0.540882      0.076609   0.264582      0.117927     0.012078    0.008764\n",
      "9    0.305256      0.254257   0.157730      0.282757     0.014038    0.005110\n"
     ]
    }
   ],
   "source": [
    "# Dataframe containing stock weights,mean and variances of all possible portfolios\n",
    "print(df)"
   ]
  },
  {
   "cell_type": "code",
   "execution_count": 101,
   "metadata": {},
   "outputs": [
    {
     "data": {
      "text/plain": [
       "<matplotlib.text.Text at 0x1f21d2eec50>"
      ]
     },
     "execution_count": 101,
     "metadata": {},
     "output_type": "execute_result"
    },
    {
     "data": {
      "image/png": "[encoded data removed]",
      "text/plain": [
       "<matplotlib.figure.Figure at 0x1f21d2e2080>"
      ]
     },
     "metadata": {},
     "output_type": "display_data"
    }
   ],
   "source": [
    "fig = plt.figure(1, figsize=(20, 10))\n",
    "plt.scatter(df.mean_return,df.var_return)\n",
    "fig.suptitle('Mean Return VS Volatality', fontsize=20)\n",
    "plt.xlabel('Volatality', fontsize=18)\n",
    "plt.ylabel('Mean Return', fontsize=16)"
   ]
  },
  {
   "cell_type": "markdown",
   "metadata": {
    "collapsed": true
   },
   "source": [
    "#### Observation:As the volatality is increasing, the value of mean return is decreasing"
   ]
  },
  {
   "cell_type": "markdown",
   "metadata": {
    "collapsed": true
   },
   "source": [
    "#### End of code"
   ]
  },
  {
   "cell_type": "code",
   "execution_count": null,
   "metadata": {
    "collapsed": true
   },
   "outputs": [],
   "source": []
  }
 ],
 "metadata": {
  "kernelspec": {
   "display_name": "Python 3",
   "language": "python",
   "name": "python3"
  },
  "language_info": {
   "codemirror_mode": {
    "name": "ipython",
    "version": 3
   },
   "file_extension": ".py",
   "mimetype": "text/x-python",
   "name": "python",
   "nbconvert_exporter": "python",
   "pygments_lexer": "ipython3",
   "version": "3.6.1"
  }
 },
 "nbformat": 4,
 "nbformat_minor": 2
}
